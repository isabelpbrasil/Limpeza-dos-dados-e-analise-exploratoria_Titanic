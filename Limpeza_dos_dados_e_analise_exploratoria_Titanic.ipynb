{
  "nbformat": 4,
  "nbformat_minor": 0,
  "metadata": {
    "colab": {
      "provenance": [],
      "mount_file_id": "1zc4DicKaoUWC9yBXuk3LYjeQ_ittwmhp",
      "authorship_tag": "ABX9TyNpVk5fBCi+oMW/JlL00CwS",
      "include_colab_link": true
    },
    "kernelspec": {
      "name": "python3",
      "display_name": "Python 3"
    },
    "language_info": {
      "name": "python"
    }
  },
  "cells": [
    {
      "cell_type": "markdown",
      "metadata": {
        "id": "view-in-github",
        "colab_type": "text"
      },
      "source": [
        "<a href=\"https://colab.research.google.com/github/isabelpbrasil/Limpeza-dos-dados-e-analise-exploratoria_Titanic/blob/main/Limpeza_dos_dados_e_analise_exploratoria_Titanic.ipynb\" target=\"_parent\"><img src=\"https://colab.research.google.com/assets/colab-badge.svg\" alt=\"Open In Colab\"/></a>"
      ]
    },
    {
      "cell_type": "code",
      "execution_count": 1,
      "metadata": {
        "colab": {
          "base_uri": "https://localhost:8080/"
        },
        "id": "QyYMqfVKE2de",
        "outputId": "bbdd1e3a-17a5-45bf-8b9e-e99022ceb4fb"
      },
      "outputs": [
        {
          "output_type": "stream",
          "name": "stdout",
          "text": [
            "(891, 12)\n"
          ]
        }
      ],
      "source": [
        "import pandas as pd\n",
        "\n",
        "#Carregar os dados\n",
        "\n",
        "df = pd.read_csv('https://drive.google.com/uc?id=1F_-ow-50fmz-6fDbwba3PpfLBPKaVvGY')\n",
        "\n",
        "#Identificar a quantidade de dados (linhas e colunas)\n",
        "\n",
        "print(df.shape)"
      ]
    },
    {
      "cell_type": "code",
      "source": [
        "#Quais colunas estão presentes na tabela\n",
        "\n",
        "print(df.columns)"
      ],
      "metadata": {
        "colab": {
          "base_uri": "https://localhost:8080/"
        },
        "id": "AVUFSU_Xoxe7",
        "outputId": "98851e4d-36bc-48bb-a55d-5f4089af58d0"
      },
      "execution_count": 2,
      "outputs": [
        {
          "output_type": "stream",
          "name": "stdout",
          "text": [
            "Index(['PassengerId', 'Survived', 'Pclass', 'Name', 'Sex', 'Age', 'SibSp',\n",
            "       'Parch', 'Ticket', 'Fare', 'Cabin', 'Embarked'],\n",
            "      dtype='object')\n"
          ]
        }
      ]
    },
    {
      "cell_type": "code",
      "source": [
        "#Visão geral dos dados, já é possível verificar se há necessidade de ajustes\n",
        "\n",
        "print(df.info())"
      ],
      "metadata": {
        "colab": {
          "base_uri": "https://localhost:8080/"
        },
        "id": "CrNbxoSVq18W",
        "outputId": "b65c3840-a9e7-45c6-f241-9a629cf87213"
      },
      "execution_count": 3,
      "outputs": [
        {
          "output_type": "stream",
          "name": "stdout",
          "text": [
            "<class 'pandas.core.frame.DataFrame'>\n",
            "RangeIndex: 891 entries, 0 to 890\n",
            "Data columns (total 12 columns):\n",
            " #   Column       Non-Null Count  Dtype  \n",
            "---  ------       --------------  -----  \n",
            " 0   PassengerId  891 non-null    int64  \n",
            " 1   Survived     891 non-null    int64  \n",
            " 2   Pclass       891 non-null    int64  \n",
            " 3   Name         891 non-null    object \n",
            " 4   Sex          891 non-null    object \n",
            " 5   Age          714 non-null    float64\n",
            " 6   SibSp        891 non-null    int64  \n",
            " 7   Parch        891 non-null    int64  \n",
            " 8   Ticket       891 non-null    object \n",
            " 9   Fare         891 non-null    float64\n",
            " 10  Cabin        204 non-null    object \n",
            " 11  Embarked     889 non-null    object \n",
            "dtypes: float64(2), int64(5), object(5)\n",
            "memory usage: 83.7+ KB\n",
            "None\n"
          ]
        }
      ]
    },
    {
      "cell_type": "code",
      "source": [
        "#Verificar quantidade de valores ausentes\n",
        "\n",
        "print(df.isnull().sum())"
      ],
      "metadata": {
        "colab": {
          "base_uri": "https://localhost:8080/"
        },
        "id": "b5aEGn4yq1vF",
        "outputId": "3642cf0f-b13f-4c9a-a43f-3002f716b967"
      },
      "execution_count": 4,
      "outputs": [
        {
          "output_type": "stream",
          "name": "stdout",
          "text": [
            "PassengerId      0\n",
            "Survived         0\n",
            "Pclass           0\n",
            "Name             0\n",
            "Sex              0\n",
            "Age            177\n",
            "SibSp            0\n",
            "Parch            0\n",
            "Ticket           0\n",
            "Fare             0\n",
            "Cabin          687\n",
            "Embarked         2\n",
            "dtype: int64\n"
          ]
        }
      ]
    },
    {
      "cell_type": "markdown",
      "source": [
        "Questionamento:\n",
        "Há muitos valores nulos da Cabine (687 de 891 valores), será que vale a pena manter essa coluna?"
      ],
      "metadata": {
        "id": "BltgkjYPjSXz"
      }
    },
    {
      "cell_type": "code",
      "source": [
        "#Análise estatística básica\n",
        "\n",
        "with pd.option_context(\"float_format\",\"{:.2f}\".format):\n",
        "  display(df.describe())"
      ],
      "metadata": {
        "colab": {
          "base_uri": "https://localhost:8080/",
          "height": 300
        },
        "id": "JGzXYtLVq1kr",
        "outputId": "2edaa149-d87c-42ef-899b-a76f7c1e8b12"
      },
      "execution_count": 5,
      "outputs": [
        {
          "output_type": "display_data",
          "data": {
            "text/plain": [
              "       PassengerId  Survived  Pclass    Age  SibSp  Parch   Fare\n",
              "count       891.00    891.00  891.00 714.00 891.00 891.00 891.00\n",
              "mean        446.00      0.38    2.31  29.70   0.52   0.38  32.20\n",
              "std         257.35      0.49    0.84  14.53   1.10   0.81  49.69\n",
              "min           1.00      0.00    1.00   0.42   0.00   0.00   0.00\n",
              "25%         223.50      0.00    2.00  20.12   0.00   0.00   7.91\n",
              "50%         446.00      0.00    3.00  28.00   0.00   0.00  14.45\n",
              "75%         668.50      1.00    3.00  38.00   1.00   0.00  31.00\n",
              "max         891.00      1.00    3.00  80.00   8.00   6.00 512.33"
            ],
            "text/html": [
              "\n",
              "  <div id=\"df-0e343702-f7ac-456e-a178-b5ad863119b9\" class=\"colab-df-container\">\n",
              "    <div>\n",
              "<style scoped>\n",
              "    .dataframe tbody tr th:only-of-type {\n",
              "        vertical-align: middle;\n",
              "    }\n",
              "\n",
              "    .dataframe tbody tr th {\n",
              "        vertical-align: top;\n",
              "    }\n",
              "\n",
              "    .dataframe thead th {\n",
              "        text-align: right;\n",
              "    }\n",
              "</style>\n",
              "<table border=\"1\" class=\"dataframe\">\n",
              "  <thead>\n",
              "    <tr style=\"text-align: right;\">\n",
              "      <th></th>\n",
              "      <th>PassengerId</th>\n",
              "      <th>Survived</th>\n",
              "      <th>Pclass</th>\n",
              "      <th>Age</th>\n",
              "      <th>SibSp</th>\n",
              "      <th>Parch</th>\n",
              "      <th>Fare</th>\n",
              "    </tr>\n",
              "  </thead>\n",
              "  <tbody>\n",
              "    <tr>\n",
              "      <th>count</th>\n",
              "      <td>891.00</td>\n",
              "      <td>891.00</td>\n",
              "      <td>891.00</td>\n",
              "      <td>714.00</td>\n",
              "      <td>891.00</td>\n",
              "      <td>891.00</td>\n",
              "      <td>891.00</td>\n",
              "    </tr>\n",
              "    <tr>\n",
              "      <th>mean</th>\n",
              "      <td>446.00</td>\n",
              "      <td>0.38</td>\n",
              "      <td>2.31</td>\n",
              "      <td>29.70</td>\n",
              "      <td>0.52</td>\n",
              "      <td>0.38</td>\n",
              "      <td>32.20</td>\n",
              "    </tr>\n",
              "    <tr>\n",
              "      <th>std</th>\n",
              "      <td>257.35</td>\n",
              "      <td>0.49</td>\n",
              "      <td>0.84</td>\n",
              "      <td>14.53</td>\n",
              "      <td>1.10</td>\n",
              "      <td>0.81</td>\n",
              "      <td>49.69</td>\n",
              "    </tr>\n",
              "    <tr>\n",
              "      <th>min</th>\n",
              "      <td>1.00</td>\n",
              "      <td>0.00</td>\n",
              "      <td>1.00</td>\n",
              "      <td>0.42</td>\n",
              "      <td>0.00</td>\n",
              "      <td>0.00</td>\n",
              "      <td>0.00</td>\n",
              "    </tr>\n",
              "    <tr>\n",
              "      <th>25%</th>\n",
              "      <td>223.50</td>\n",
              "      <td>0.00</td>\n",
              "      <td>2.00</td>\n",
              "      <td>20.12</td>\n",
              "      <td>0.00</td>\n",
              "      <td>0.00</td>\n",
              "      <td>7.91</td>\n",
              "    </tr>\n",
              "    <tr>\n",
              "      <th>50%</th>\n",
              "      <td>446.00</td>\n",
              "      <td>0.00</td>\n",
              "      <td>3.00</td>\n",
              "      <td>28.00</td>\n",
              "      <td>0.00</td>\n",
              "      <td>0.00</td>\n",
              "      <td>14.45</td>\n",
              "    </tr>\n",
              "    <tr>\n",
              "      <th>75%</th>\n",
              "      <td>668.50</td>\n",
              "      <td>1.00</td>\n",
              "      <td>3.00</td>\n",
              "      <td>38.00</td>\n",
              "      <td>1.00</td>\n",
              "      <td>0.00</td>\n",
              "      <td>31.00</td>\n",
              "    </tr>\n",
              "    <tr>\n",
              "      <th>max</th>\n",
              "      <td>891.00</td>\n",
              "      <td>1.00</td>\n",
              "      <td>3.00</td>\n",
              "      <td>80.00</td>\n",
              "      <td>8.00</td>\n",
              "      <td>6.00</td>\n",
              "      <td>512.33</td>\n",
              "    </tr>\n",
              "  </tbody>\n",
              "</table>\n",
              "</div>\n",
              "    <div class=\"colab-df-buttons\">\n",
              "\n",
              "  <div class=\"colab-df-container\">\n",
              "    <button class=\"colab-df-convert\" onclick=\"convertToInteractive('df-0e343702-f7ac-456e-a178-b5ad863119b9')\"\n",
              "            title=\"Convert this dataframe to an interactive table.\"\n",
              "            style=\"display:none;\">\n",
              "\n",
              "  <svg xmlns=\"http://www.w3.org/2000/svg\" height=\"24px\" viewBox=\"0 -960 960 960\">\n",
              "    <path d=\"M120-120v-720h720v720H120Zm60-500h600v-160H180v160Zm220 220h160v-160H400v160Zm0 220h160v-160H400v160ZM180-400h160v-160H180v160Zm440 0h160v-160H620v160ZM180-180h160v-160H180v160Zm440 0h160v-160H620v160Z\"/>\n",
              "  </svg>\n",
              "    </button>\n",
              "\n",
              "  <style>\n",
              "    .colab-df-container {\n",
              "      display:flex;\n",
              "      gap: 12px;\n",
              "    }\n",
              "\n",
              "    .colab-df-convert {\n",
              "      background-color: #E8F0FE;\n",
              "      border: none;\n",
              "      border-radius: 50%;\n",
              "      cursor: pointer;\n",
              "      display: none;\n",
              "      fill: #1967D2;\n",
              "      height: 32px;\n",
              "      padding: 0 0 0 0;\n",
              "      width: 32px;\n",
              "    }\n",
              "\n",
              "    .colab-df-convert:hover {\n",
              "      background-color: #E2EBFA;\n",
              "      box-shadow: 0px 1px 2px rgba(60, 64, 67, 0.3), 0px 1px 3px 1px rgba(60, 64, 67, 0.15);\n",
              "      fill: #174EA6;\n",
              "    }\n",
              "\n",
              "    .colab-df-buttons div {\n",
              "      margin-bottom: 4px;\n",
              "    }\n",
              "\n",
              "    [theme=dark] .colab-df-convert {\n",
              "      background-color: #3B4455;\n",
              "      fill: #D2E3FC;\n",
              "    }\n",
              "\n",
              "    [theme=dark] .colab-df-convert:hover {\n",
              "      background-color: #434B5C;\n",
              "      box-shadow: 0px 1px 3px 1px rgba(0, 0, 0, 0.15);\n",
              "      filter: drop-shadow(0px 1px 2px rgba(0, 0, 0, 0.3));\n",
              "      fill: #FFFFFF;\n",
              "    }\n",
              "  </style>\n",
              "\n",
              "    <script>\n",
              "      const buttonEl =\n",
              "        document.querySelector('#df-0e343702-f7ac-456e-a178-b5ad863119b9 button.colab-df-convert');\n",
              "      buttonEl.style.display =\n",
              "        google.colab.kernel.accessAllowed ? 'block' : 'none';\n",
              "\n",
              "      async function convertToInteractive(key) {\n",
              "        const element = document.querySelector('#df-0e343702-f7ac-456e-a178-b5ad863119b9');\n",
              "        const dataTable =\n",
              "          await google.colab.kernel.invokeFunction('convertToInteractive',\n",
              "                                                    [key], {});\n",
              "        if (!dataTable) return;\n",
              "\n",
              "        const docLinkHtml = 'Like what you see? Visit the ' +\n",
              "          '<a target=\"_blank\" href=https://colab.research.google.com/notebooks/data_table.ipynb>data table notebook</a>'\n",
              "          + ' to learn more about interactive tables.';\n",
              "        element.innerHTML = '';\n",
              "        dataTable['output_type'] = 'display_data';\n",
              "        await google.colab.output.renderOutput(dataTable, element);\n",
              "        const docLink = document.createElement('div');\n",
              "        docLink.innerHTML = docLinkHtml;\n",
              "        element.appendChild(docLink);\n",
              "      }\n",
              "    </script>\n",
              "  </div>\n",
              "\n",
              "\n",
              "    <div id=\"df-1ac6c9b5-52ab-493f-9f5f-73c4609bba89\">\n",
              "      <button class=\"colab-df-quickchart\" onclick=\"quickchart('df-1ac6c9b5-52ab-493f-9f5f-73c4609bba89')\"\n",
              "                title=\"Suggest charts\"\n",
              "                style=\"display:none;\">\n",
              "\n",
              "<svg xmlns=\"http://www.w3.org/2000/svg\" height=\"24px\"viewBox=\"0 0 24 24\"\n",
              "     width=\"24px\">\n",
              "    <g>\n",
              "        <path d=\"M19 3H5c-1.1 0-2 .9-2 2v14c0 1.1.9 2 2 2h14c1.1 0 2-.9 2-2V5c0-1.1-.9-2-2-2zM9 17H7v-7h2v7zm4 0h-2V7h2v10zm4 0h-2v-4h2v4z\"/>\n",
              "    </g>\n",
              "</svg>\n",
              "      </button>\n",
              "\n",
              "<style>\n",
              "  .colab-df-quickchart {\n",
              "      --bg-color: #E8F0FE;\n",
              "      --fill-color: #1967D2;\n",
              "      --hover-bg-color: #E2EBFA;\n",
              "      --hover-fill-color: #174EA6;\n",
              "      --disabled-fill-color: #AAA;\n",
              "      --disabled-bg-color: #DDD;\n",
              "  }\n",
              "\n",
              "  [theme=dark] .colab-df-quickchart {\n",
              "      --bg-color: #3B4455;\n",
              "      --fill-color: #D2E3FC;\n",
              "      --hover-bg-color: #434B5C;\n",
              "      --hover-fill-color: #FFFFFF;\n",
              "      --disabled-bg-color: #3B4455;\n",
              "      --disabled-fill-color: #666;\n",
              "  }\n",
              "\n",
              "  .colab-df-quickchart {\n",
              "    background-color: var(--bg-color);\n",
              "    border: none;\n",
              "    border-radius: 50%;\n",
              "    cursor: pointer;\n",
              "    display: none;\n",
              "    fill: var(--fill-color);\n",
              "    height: 32px;\n",
              "    padding: 0;\n",
              "    width: 32px;\n",
              "  }\n",
              "\n",
              "  .colab-df-quickchart:hover {\n",
              "    background-color: var(--hover-bg-color);\n",
              "    box-shadow: 0 1px 2px rgba(60, 64, 67, 0.3), 0 1px 3px 1px rgba(60, 64, 67, 0.15);\n",
              "    fill: var(--button-hover-fill-color);\n",
              "  }\n",
              "\n",
              "  .colab-df-quickchart-complete:disabled,\n",
              "  .colab-df-quickchart-complete:disabled:hover {\n",
              "    background-color: var(--disabled-bg-color);\n",
              "    fill: var(--disabled-fill-color);\n",
              "    box-shadow: none;\n",
              "  }\n",
              "\n",
              "  .colab-df-spinner {\n",
              "    border: 2px solid var(--fill-color);\n",
              "    border-color: transparent;\n",
              "    border-bottom-color: var(--fill-color);\n",
              "    animation:\n",
              "      spin 1s steps(1) infinite;\n",
              "  }\n",
              "\n",
              "  @keyframes spin {\n",
              "    0% {\n",
              "      border-color: transparent;\n",
              "      border-bottom-color: var(--fill-color);\n",
              "      border-left-color: var(--fill-color);\n",
              "    }\n",
              "    20% {\n",
              "      border-color: transparent;\n",
              "      border-left-color: var(--fill-color);\n",
              "      border-top-color: var(--fill-color);\n",
              "    }\n",
              "    30% {\n",
              "      border-color: transparent;\n",
              "      border-left-color: var(--fill-color);\n",
              "      border-top-color: var(--fill-color);\n",
              "      border-right-color: var(--fill-color);\n",
              "    }\n",
              "    40% {\n",
              "      border-color: transparent;\n",
              "      border-right-color: var(--fill-color);\n",
              "      border-top-color: var(--fill-color);\n",
              "    }\n",
              "    60% {\n",
              "      border-color: transparent;\n",
              "      border-right-color: var(--fill-color);\n",
              "    }\n",
              "    80% {\n",
              "      border-color: transparent;\n",
              "      border-right-color: var(--fill-color);\n",
              "      border-bottom-color: var(--fill-color);\n",
              "    }\n",
              "    90% {\n",
              "      border-color: transparent;\n",
              "      border-bottom-color: var(--fill-color);\n",
              "    }\n",
              "  }\n",
              "</style>\n",
              "\n",
              "      <script>\n",
              "        async function quickchart(key) {\n",
              "          const quickchartButtonEl =\n",
              "            document.querySelector('#' + key + ' button');\n",
              "          quickchartButtonEl.disabled = true;  // To prevent multiple clicks.\n",
              "          quickchartButtonEl.classList.add('colab-df-spinner');\n",
              "          try {\n",
              "            const charts = await google.colab.kernel.invokeFunction(\n",
              "                'suggestCharts', [key], {});\n",
              "          } catch (error) {\n",
              "            console.error('Error during call to suggestCharts:', error);\n",
              "          }\n",
              "          quickchartButtonEl.classList.remove('colab-df-spinner');\n",
              "          quickchartButtonEl.classList.add('colab-df-quickchart-complete');\n",
              "        }\n",
              "        (() => {\n",
              "          let quickchartButtonEl =\n",
              "            document.querySelector('#df-1ac6c9b5-52ab-493f-9f5f-73c4609bba89 button');\n",
              "          quickchartButtonEl.style.display =\n",
              "            google.colab.kernel.accessAllowed ? 'block' : 'none';\n",
              "        })();\n",
              "      </script>\n",
              "    </div>\n",
              "\n",
              "    </div>\n",
              "  </div>\n"
            ],
            "application/vnd.google.colaboratory.intrinsic+json": {
              "type": "dataframe",
              "summary": "{\n  \"name\": \"  display(df\",\n  \"rows\": 8,\n  \"fields\": [\n    {\n      \"column\": \"PassengerId\",\n      \"properties\": {\n        \"dtype\": \"number\",\n        \"std\": 320.8159711429856,\n        \"min\": 1.0,\n        \"max\": 891.0,\n        \"num_unique_values\": 6,\n        \"samples\": [\n          891.0,\n          446.0,\n          668.5\n        ],\n        \"semantic_type\": \"\",\n        \"description\": \"\"\n      }\n    },\n    {\n      \"column\": \"Survived\",\n      \"properties\": {\n        \"dtype\": \"number\",\n        \"std\": 314.8713661874558,\n        \"min\": 0.0,\n        \"max\": 891.0,\n        \"num_unique_values\": 5,\n        \"samples\": [\n          0.3838383838383838,\n          1.0,\n          0.4865924542648585\n        ],\n        \"semantic_type\": \"\",\n        \"description\": \"\"\n      }\n    },\n    {\n      \"column\": \"Pclass\",\n      \"properties\": {\n        \"dtype\": \"number\",\n        \"std\": 314.2523437079693,\n        \"min\": 0.8360712409770513,\n        \"max\": 891.0,\n        \"num_unique_values\": 6,\n        \"samples\": [\n          891.0,\n          2.308641975308642,\n          3.0\n        ],\n        \"semantic_type\": \"\",\n        \"description\": \"\"\n      }\n    },\n    {\n      \"column\": \"Age\",\n      \"properties\": {\n        \"dtype\": \"number\",\n        \"std\": 242.9056731818781,\n        \"min\": 0.42,\n        \"max\": 714.0,\n        \"num_unique_values\": 8,\n        \"samples\": [\n          29.69911764705882,\n          28.0,\n          714.0\n        ],\n        \"semantic_type\": \"\",\n        \"description\": \"\"\n      }\n    },\n    {\n      \"column\": \"SibSp\",\n      \"properties\": {\n        \"dtype\": \"number\",\n        \"std\": 314.4908277465442,\n        \"min\": 0.0,\n        \"max\": 891.0,\n        \"num_unique_values\": 6,\n        \"samples\": [\n          891.0,\n          0.5230078563411896,\n          8.0\n        ],\n        \"semantic_type\": \"\",\n        \"description\": \"\"\n      }\n    },\n    {\n      \"column\": \"Parch\",\n      \"properties\": {\n        \"dtype\": \"number\",\n        \"std\": 314.65971717879,\n        \"min\": 0.0,\n        \"max\": 891.0,\n        \"num_unique_values\": 5,\n        \"samples\": [\n          0.38159371492704824,\n          6.0,\n          0.8060572211299559\n        ],\n        \"semantic_type\": \"\",\n        \"description\": \"\"\n      }\n    },\n    {\n      \"column\": \"Fare\",\n      \"properties\": {\n        \"dtype\": \"number\",\n        \"std\": 330.6256632228577,\n        \"min\": 0.0,\n        \"max\": 891.0,\n        \"num_unique_values\": 8,\n        \"samples\": [\n          32.204207968574636,\n          14.4542,\n          891.0\n        ],\n        \"semantic_type\": \"\",\n        \"description\": \"\"\n      }\n    }\n  ]\n}"
            }
          },
          "metadata": {}
        }
      ]
    },
    {
      "cell_type": "code",
      "source": [
        "#Mostrar os primeiros 20 nomes, menores idades e se sobreviveu (1-sim, 0-não)\n",
        "\n",
        "print(df.sort_values(\"Age\")[[\"Name\",\"Age\",\"Survived\"]].head(20))"
      ],
      "metadata": {
        "colab": {
          "base_uri": "https://localhost:8080/"
        },
        "id": "rYlm5eoHrbJp",
        "outputId": "845f2386-87ad-4fe2-85d3-11625a1dde7c"
      },
      "execution_count": 6,
      "outputs": [
        {
          "output_type": "stream",
          "name": "stdout",
          "text": [
            "                                  Name   Age  Survived\n",
            "803    Thomas, Master. Assad Alexander  0.42         1\n",
            "755          Hamalainen, Master. Viljo  0.67         1\n",
            "644             Baclini, Miss. Eugenie  0.75         1\n",
            "469      Baclini, Miss. Helene Barbara  0.75         1\n",
            "78       Caldwell, Master. Alden Gates  0.83         1\n",
            "831    Richards, Master. George Sibley  0.83         1\n",
            "305     Allison, Master. Hudson Trevor  0.92         1\n",
            "386    Goodwin, Master. Sidney Leonard  1.00         0\n",
            "172       Johnson, Miss. Eleanor Ileen  1.00         1\n",
            "183          Becker, Master. Richard F  1.00         1\n",
            "164       Panula, Master. Eino Viljami  1.00         0\n",
            "827              Mallet, Master. Andre  1.00         1\n",
            "788         Dean, Master. Bertram Vere  1.00         1\n",
            "381        Nakid, Miss. Maria (\"Mary\")  1.00         1\n",
            "642      Skoog, Miss. Margit Elizabeth  2.00         0\n",
            "119  Andersson, Miss. Ellis Anna Maria  2.00         0\n",
            "479           Hirvonen, Miss. Hildur E  2.00         1\n",
            "205         Strom, Miss. Telma Matilda  2.00         0\n",
            "16                Rice, Master. Eugene  2.00         0\n",
            "340     Navratil, Master. Edmond Roger  2.00         1\n"
          ]
        }
      ]
    },
    {
      "cell_type": "code",
      "source": [
        "#Quantidade de valores de cada coluna (junta os que são iguais)\n",
        "\n",
        "print(df.nunique())"
      ],
      "metadata": {
        "colab": {
          "base_uri": "https://localhost:8080/"
        },
        "id": "tZZQJVGXrbBj",
        "outputId": "6b3039e4-2362-4595-f452-31fe59980792"
      },
      "execution_count": 7,
      "outputs": [
        {
          "output_type": "stream",
          "name": "stdout",
          "text": [
            "PassengerId    891\n",
            "Survived         2\n",
            "Pclass           3\n",
            "Name           891\n",
            "Sex              2\n",
            "Age             88\n",
            "SibSp            7\n",
            "Parch            7\n",
            "Ticket         681\n",
            "Fare           248\n",
            "Cabin          147\n",
            "Embarked         3\n",
            "dtype: int64\n"
          ]
        }
      ]
    },
    {
      "cell_type": "code",
      "source": [
        "#Quantidade de valores de cada coluna (junta os que são iguais), excluindo valores numéricos\n",
        "\n",
        "print(df.describe(exclude=\"number\"))"
      ],
      "metadata": {
        "colab": {
          "base_uri": "https://localhost:8080/"
        },
        "id": "6d2WKLtSsIlY",
        "outputId": "632568ff-c194-442f-b2f7-c3d9dd81e696"
      },
      "execution_count": 8,
      "outputs": [
        {
          "output_type": "stream",
          "name": "stdout",
          "text": [
            "                       Name   Sex  Ticket Cabin Embarked\n",
            "count                   891   891     891   204      889\n",
            "unique                  891     2     681   147        3\n",
            "top     Dooley, Mr. Patrick  male  347082    G6        S\n",
            "freq                      1   577       7     4      644\n"
          ]
        }
      ]
    },
    {
      "cell_type": "code",
      "source": [
        "#Qual a nomenclatura das variáveis Sex e Embarked\n",
        "\n",
        "print(df[\"Sex\"].unique())\n",
        "print(df[\"Embarked\"].unique())"
      ],
      "metadata": {
        "colab": {
          "base_uri": "https://localhost:8080/"
        },
        "id": "F2ZD1aQBtbAn",
        "outputId": "35c42fbe-b6ce-48b4-b3e4-50fb906969ec"
      },
      "execution_count": 9,
      "outputs": [
        {
          "output_type": "stream",
          "name": "stdout",
          "text": [
            "['male' 'female']\n",
            "['S' 'C' 'Q' nan]\n"
          ]
        }
      ]
    },
    {
      "cell_type": "code",
      "source": [
        "#Criar nova coluna FamilySize (Somar conjugue, irmaos, pais e filhos +1 (própria pessoa))\n",
        "\n",
        "df['FamilySize']=df['SibSp']+df['Parch']+1\n",
        "\n",
        "#Criar nova coluna IsAlone dizendo se a pessoa está sozinha (Está sozinha=1, Não está sozinha=0)\n",
        "\n",
        "df['IsAlone']=(df['FamilySize']==1).astype(int)\n",
        "\n",
        "#Verificar valores únicos na coluna IsAlone\n",
        "\n",
        "print(df['IsAlone'].unique())"
      ],
      "metadata": {
        "colab": {
          "base_uri": "https://localhost:8080/"
        },
        "id": "rto7VQmXta36",
        "outputId": "2222bb53-2c72-4754-b3d2-d5227c61ad9f"
      },
      "execution_count": 10,
      "outputs": [
        {
          "output_type": "stream",
          "name": "stdout",
          "text": [
            "[0 1]\n"
          ]
        }
      ]
    },
    {
      "cell_type": "code",
      "source": [
        "#Valores estatísticos na coluna IsAlone\n",
        "\n",
        "df['IsAlone'].describe()"
      ],
      "metadata": {
        "colab": {
          "base_uri": "https://localhost:8080/",
          "height": 335
        },
        "id": "3BpFEtrtuK9w",
        "outputId": "6a23afa4-d83b-4bde-cbe2-907c32563346"
      },
      "execution_count": 11,
      "outputs": [
        {
          "output_type": "execute_result",
          "data": {
            "text/plain": [
              "count    891.000000\n",
              "mean       0.602694\n",
              "std        0.489615\n",
              "min        0.000000\n",
              "25%        0.000000\n",
              "50%        1.000000\n",
              "75%        1.000000\n",
              "max        1.000000\n",
              "Name: IsAlone, dtype: float64"
            ],
            "text/html": [
              "<div>\n",
              "<style scoped>\n",
              "    .dataframe tbody tr th:only-of-type {\n",
              "        vertical-align: middle;\n",
              "    }\n",
              "\n",
              "    .dataframe tbody tr th {\n",
              "        vertical-align: top;\n",
              "    }\n",
              "\n",
              "    .dataframe thead th {\n",
              "        text-align: right;\n",
              "    }\n",
              "</style>\n",
              "<table border=\"1\" class=\"dataframe\">\n",
              "  <thead>\n",
              "    <tr style=\"text-align: right;\">\n",
              "      <th></th>\n",
              "      <th>IsAlone</th>\n",
              "    </tr>\n",
              "  </thead>\n",
              "  <tbody>\n",
              "    <tr>\n",
              "      <th>count</th>\n",
              "      <td>891.000000</td>\n",
              "    </tr>\n",
              "    <tr>\n",
              "      <th>mean</th>\n",
              "      <td>0.602694</td>\n",
              "    </tr>\n",
              "    <tr>\n",
              "      <th>std</th>\n",
              "      <td>0.489615</td>\n",
              "    </tr>\n",
              "    <tr>\n",
              "      <th>min</th>\n",
              "      <td>0.000000</td>\n",
              "    </tr>\n",
              "    <tr>\n",
              "      <th>25%</th>\n",
              "      <td>0.000000</td>\n",
              "    </tr>\n",
              "    <tr>\n",
              "      <th>50%</th>\n",
              "      <td>1.000000</td>\n",
              "    </tr>\n",
              "    <tr>\n",
              "      <th>75%</th>\n",
              "      <td>1.000000</td>\n",
              "    </tr>\n",
              "    <tr>\n",
              "      <th>max</th>\n",
              "      <td>1.000000</td>\n",
              "    </tr>\n",
              "  </tbody>\n",
              "</table>\n",
              "</div><br><label><b>dtype:</b> float64</label>"
            ]
          },
          "metadata": {},
          "execution_count": 11
        }
      ]
    },
    {
      "cell_type": "markdown",
      "source": [
        "Com a média acima tenho a infomação de que 60% passageiros estavam sozinhos."
      ],
      "metadata": {
        "id": "EoC4J4ZXvK0k"
      }
    },
    {
      "cell_type": "code",
      "source": [
        "#Crosstab é uma função do pandas que serve para cruzar duas colunas de uma tabela.\n",
        "#Tabela de sobrevivência por estar ou não sozinho (Sobreviveu=1, Sozinho=1)\n",
        "#Normalize trás os valores em porcentagem, melhor para a análise\n",
        "\n",
        "print(pd.crosstab(df['IsAlone'],df['Survived'],normalize='index'))"
      ],
      "metadata": {
        "colab": {
          "base_uri": "https://localhost:8080/"
        },
        "id": "HYt3WOZmvKD8",
        "outputId": "a0f04f51-3abc-44e2-e5a6-38134aaf8c38"
      },
      "execution_count": 12,
      "outputs": [
        {
          "output_type": "stream",
          "name": "stdout",
          "text": [
            "Survived         0         1\n",
            "IsAlone                     \n",
            "0         0.494350  0.505650\n",
            "1         0.696462  0.303538\n"
          ]
        }
      ]
    },
    {
      "cell_type": "markdown",
      "source": [
        "*   49,43%  que não sobreviveu não estava sozinho.\n",
        "*   69,64% que não sobreviveu estava sozinho.\n",
        "\n",
        "Podemos concluir que a maior parte dos que não sobreviveram estavam sozinhos (menos familiares para ajudar)."
      ],
      "metadata": {
        "id": "VGjpKiM3vk4N"
      }
    },
    {
      "cell_type": "code",
      "source": [
        "#Tabela de sobrevivência por sexo (Sobreviveu=1, Não sobreviveu=0)\n",
        "\n",
        "print(pd.crosstab(df['Sex'],df['Survived'],normalize='index'))"
      ],
      "metadata": {
        "colab": {
          "base_uri": "https://localhost:8080/"
        },
        "id": "ZF9tX0uJvJ8l",
        "outputId": "2983519e-b21d-4717-a534-0f9d9cc81c69"
      },
      "execution_count": 13,
      "outputs": [
        {
          "output_type": "stream",
          "name": "stdout",
          "text": [
            "Survived         0         1\n",
            "Sex                         \n",
            "female    0.257962  0.742038\n",
            "male      0.811092  0.188908\n"
          ]
        }
      ]
    },
    {
      "cell_type": "markdown",
      "source": [
        "*   25,79% que não sobreviveu era do sexo feminino.\n",
        "*   81,10% que não sobreviveu era do sexo masculino.\n",
        "\n",
        "Podemos concluir que muito mais homens não sobreviveram."
      ],
      "metadata": {
        "id": "mhNjAO3ZLzfa"
      }
    },
    {
      "cell_type": "code",
      "source": [
        "#Tratar valores nulos\n",
        "#Primeiro verificar novamente quantidade de valores ausentes por coluna\n",
        "\n",
        "print(df.isnull().sum())"
      ],
      "metadata": {
        "colab": {
          "base_uri": "https://localhost:8080/"
        },
        "id": "0opAlD0nvJ31",
        "outputId": "6778fe5f-9f15-4b90-e5d5-d2471b162b43"
      },
      "execution_count": 14,
      "outputs": [
        {
          "output_type": "stream",
          "name": "stdout",
          "text": [
            "PassengerId      0\n",
            "Survived         0\n",
            "Pclass           0\n",
            "Name             0\n",
            "Sex              0\n",
            "Age            177\n",
            "SibSp            0\n",
            "Parch            0\n",
            "Ticket           0\n",
            "Fare             0\n",
            "Cabin          687\n",
            "Embarked         2\n",
            "FamilySize       0\n",
            "IsAlone          0\n",
            "dtype: int64\n"
          ]
        }
      ]
    },
    {
      "cell_type": "code",
      "source": [
        "#Tratar valores nulos da variável Embarked (local de embarque)\n",
        "#Verificar valores de Embarked mais frequentes\n",
        "\n",
        "print(df['Embarked'].value_counts())\n",
        "\n",
        "#Preencer valores nulos com a moda (moda é o valor que mais se repetiu)\n",
        "\n",
        "df.fillna({'Embarked':df['Embarked'].mode()[0]},inplace=True)"
      ],
      "metadata": {
        "colab": {
          "base_uri": "https://localhost:8080/"
        },
        "id": "5XuB15gzv7ob",
        "outputId": "1a9e8ae7-bbdc-4f9e-82d1-c501accf0ce5"
      },
      "execution_count": 15,
      "outputs": [
        {
          "output_type": "stream",
          "name": "stdout",
          "text": [
            "Embarked\n",
            "S    644\n",
            "C    168\n",
            "Q     77\n",
            "Name: count, dtype: int64\n"
          ]
        }
      ]
    },
    {
      "cell_type": "code",
      "source": [
        "#Tratar valores nulos da variável Age (idade)\n",
        "#Criar coluna 'Title' (título)\n",
        "\n",
        "df['Title']=df['Name'].str.extract(r' ([A-za-z]+)\\.',expand=False)\n",
        "\n",
        "#Padronizar títulos menos comuns\n",
        "\n",
        "df['Title']=df['Title'].replace(['Mlle','Ms'],'Miss')\n",
        "df['Title']=df['Title'].replace(['Mme','Mr'],'Mrs')\n",
        "df['Title']=df['Title'].replace(['Lady','Countess','Dona','Sir','Don','Jonkheer'],'Royalty')\n",
        "df['Title']=df['Title'].replace(['Capt','Col','Major','Dr','Rev',''],'Officer')\n",
        "\n",
        "#Preencher valores ausentes de Age com a mediana por título\n",
        "\n",
        "df['Age']=df.groupby('Title')['Age'].transform(lambda x:x.fillna(x.mean()))\n"
      ],
      "metadata": {
        "id": "UOYbogSEv7fr"
      },
      "execution_count": 16,
      "outputs": []
    },
    {
      "cell_type": "code",
      "source": [
        "print(df.isnull().sum())"
      ],
      "metadata": {
        "colab": {
          "base_uri": "https://localhost:8080/"
        },
        "id": "LQ68uMBowF2C",
        "outputId": "02393789-7865-4ceb-93cd-1b7eaed3d4e0"
      },
      "execution_count": 17,
      "outputs": [
        {
          "output_type": "stream",
          "name": "stdout",
          "text": [
            "PassengerId      0\n",
            "Survived         0\n",
            "Pclass           0\n",
            "Name             0\n",
            "Sex              0\n",
            "Age              0\n",
            "SibSp            0\n",
            "Parch            0\n",
            "Ticket           0\n",
            "Fare             0\n",
            "Cabin          687\n",
            "Embarked         0\n",
            "FamilySize       0\n",
            "IsAlone          0\n",
            "Title            0\n",
            "dtype: int64\n"
          ]
        }
      ]
    },
    {
      "cell_type": "code",
      "source": [
        "#Tratar valores nulos da variável Cabin (cabine)\n",
        "#Decidi retirar a coluna Cabin por ter muitos valores nulos\n",
        "\n",
        "df.drop(columns='Cabin',inplace=True)"
      ],
      "metadata": {
        "id": "WcXryHnQwFyh"
      },
      "execution_count": 18,
      "outputs": []
    },
    {
      "cell_type": "code",
      "source": [
        "print(df.isnull().sum())"
      ],
      "metadata": {
        "colab": {
          "base_uri": "https://localhost:8080/"
        },
        "id": "LOIKVNRwyZFf",
        "outputId": "5c8786e1-a5ea-41cc-aed0-c8337b16cf07"
      },
      "execution_count": 19,
      "outputs": [
        {
          "output_type": "stream",
          "name": "stdout",
          "text": [
            "PassengerId    0\n",
            "Survived       0\n",
            "Pclass         0\n",
            "Name           0\n",
            "Sex            0\n",
            "Age            0\n",
            "SibSp          0\n",
            "Parch          0\n",
            "Ticket         0\n",
            "Fare           0\n",
            "Embarked       0\n",
            "FamilySize     0\n",
            "IsAlone        0\n",
            "Title          0\n",
            "dtype: int64\n"
          ]
        }
      ]
    },
    {
      "cell_type": "code",
      "source": [
        "#Calcular a taxa de sobrevivência (média da coluna de sobreviventes)\n",
        "\n",
        "survival_rate=df['Survived'].mean()\n",
        "print(f\"Taxa de sobrevivência: {survival_rate:.2%}\")"
      ],
      "metadata": {
        "colab": {
          "base_uri": "https://localhost:8080/"
        },
        "id": "i0E_RZG3yZCi",
        "outputId": "f58feafa-9f0d-403e-944b-356a72df598b"
      },
      "execution_count": 20,
      "outputs": [
        {
          "output_type": "stream",
          "name": "stdout",
          "text": [
            "Taxa de sobrevivência: 38.38%\n"
          ]
        }
      ]
    },
    {
      "cell_type": "code",
      "source": [
        "#Taxa de sobrevivência por classe (média da coluna de sobreviventes agrupado por classe)\n",
        "\n",
        "print(df.groupby('Pclass')['Survived'].mean()*100)"
      ],
      "metadata": {
        "colab": {
          "base_uri": "https://localhost:8080/"
        },
        "id": "0tXIYsClyY65",
        "outputId": "84a7b071-f4ea-4eee-f225-2f51d25d4e8e"
      },
      "execution_count": 21,
      "outputs": [
        {
          "output_type": "stream",
          "name": "stdout",
          "text": [
            "Pclass\n",
            "1    62.962963\n",
            "2    47.282609\n",
            "3    24.236253\n",
            "Name: Survived, dtype: float64\n"
          ]
        }
      ]
    },
    {
      "cell_type": "markdown",
      "source": [
        "As pessoas da primeira classe foram as que mais sobreviveram. As de terceira classe foram as que menos sobreviveram."
      ],
      "metadata": {
        "id": "p3xZuxYyaw5H"
      }
    },
    {
      "cell_type": "code",
      "source": [
        "#Taxa de sobrevivência por gênero (média da coluna de sobreviventes agrupado por genero)\n",
        "\n",
        "print(df.groupby('Sex')['Survived'].mean())"
      ],
      "metadata": {
        "colab": {
          "base_uri": "https://localhost:8080/"
        },
        "id": "cEkGbZH9yxGU",
        "outputId": "3e288bfd-ad83-4987-dd0b-57f81197117b"
      },
      "execution_count": 22,
      "outputs": [
        {
          "output_type": "stream",
          "name": "stdout",
          "text": [
            "Sex\n",
            "female    0.742038\n",
            "male      0.188908\n",
            "Name: Survived, dtype: float64\n"
          ]
        }
      ]
    },
    {
      "cell_type": "markdown",
      "source": [
        "A porcentagem de mulheres que sobreviveram foi maior que a de homens."
      ],
      "metadata": {
        "id": "F4BkY2qebFOq"
      }
    },
    {
      "cell_type": "code",
      "source": [
        "#Após tratar valores nulos, calcular estatísticas novamente:\n",
        "#Estatísticas descritivas das variáveis numéricas\n",
        "\n",
        "print(df.describe())\n",
        "\n",
        "#Estatística das variáveis categóricas\n",
        "\n",
        "print(df.describe(include=['object']))"
      ],
      "metadata": {
        "colab": {
          "base_uri": "https://localhost:8080/"
        },
        "id": "QPYwQ7HDyxDQ",
        "outputId": "c64217ac-b0f6-4d10-a798-003277135857"
      },
      "execution_count": 23,
      "outputs": [
        {
          "output_type": "stream",
          "name": "stdout",
          "text": [
            "       PassengerId    Survived      Pclass         Age       SibSp  \\\n",
            "count   891.000000  891.000000  891.000000  891.000000  891.000000   \n",
            "mean    446.000000    0.383838    2.308642   29.807742    0.523008   \n",
            "std     257.353842    0.486592    0.836071   13.284148    1.102743   \n",
            "min       1.000000    0.000000    1.000000    0.420000    0.000000   \n",
            "25%     223.500000    0.000000    2.000000   21.845638    0.000000   \n",
            "50%     446.000000    0.000000    3.000000   30.000000    0.000000   \n",
            "75%     668.500000    1.000000    3.000000   35.000000    1.000000   \n",
            "max     891.000000    1.000000    3.000000   80.000000    8.000000   \n",
            "\n",
            "            Parch        Fare  FamilySize     IsAlone  \n",
            "count  891.000000  891.000000  891.000000  891.000000  \n",
            "mean     0.381594   32.204208    1.904602    0.602694  \n",
            "std      0.806057   49.693429    1.613459    0.489615  \n",
            "min      0.000000    0.000000    1.000000    0.000000  \n",
            "25%      0.000000    7.910400    1.000000    0.000000  \n",
            "50%      0.000000   14.454200    1.000000    1.000000  \n",
            "75%      0.000000   31.000000    2.000000    1.000000  \n",
            "max      6.000000  512.329200   11.000000    1.000000  \n",
            "                       Name   Sex  Ticket Embarked Title\n",
            "count                   891   891     891      891   891\n",
            "unique                  891     2     681        3     5\n",
            "top     Dooley, Mr. Patrick  male  347082        S   Mrs\n",
            "freq                      1   577       7      646   643\n"
          ]
        }
      ]
    },
    {
      "cell_type": "code",
      "source": [
        "#Frequência absoluta (Não sobreviveram=0; Sobreviveram=1)\n",
        "\n",
        "print(df['Survived'].value_counts())\n",
        "\n",
        "#Frequência relativa (Não sobreviveram=0; Sobreviveram=1)\n",
        "\n",
        "print(df['Survived'].value_counts(normalize=True).map(\"{:.1%}\".format))"
      ],
      "metadata": {
        "colab": {
          "base_uri": "https://localhost:8080/"
        },
        "id": "Xv7K-HILzD0b",
        "outputId": "79800cf7-f810-45ba-a32c-401a8ab104ba"
      },
      "execution_count": 24,
      "outputs": [
        {
          "output_type": "stream",
          "name": "stdout",
          "text": [
            "Survived\n",
            "0    549\n",
            "1    342\n",
            "Name: count, dtype: int64\n",
            "Survived\n",
            "0    61.6%\n",
            "1    38.4%\n",
            "Name: proportion, dtype: object\n"
          ]
        }
      ]
    },
    {
      "cell_type": "code",
      "source": [
        "#Taxa de sobrevivência por porta de embarque (média da coluna de sobreviventes agrupado por porta de embarque)\n",
        "\n",
        "print(df.groupby('Embarked')['Survived'].mean()*100)"
      ],
      "metadata": {
        "colab": {
          "base_uri": "https://localhost:8080/"
        },
        "id": "R_Qzq_8fzDvl",
        "outputId": "0a710119-bf17-45ce-b791-9e384ec61143"
      },
      "execution_count": 25,
      "outputs": [
        {
          "output_type": "stream",
          "name": "stdout",
          "text": [
            "Embarked\n",
            "C    55.357143\n",
            "Q    38.961039\n",
            "S    33.900929\n",
            "Name: Survived, dtype: float64\n"
          ]
        }
      ]
    },
    {
      "cell_type": "code",
      "source": [
        "#Idade média dos sobreviventes (1) vs. não sobreviventes (0)\n",
        "\n",
        "print(df.groupby('Survived')['Age'].mean())\n",
        "\n",
        "#Tarifa média dos sobreviventes (1) vs. não sobreviventes (0)\n",
        "\n",
        "print(df.groupby('Survived')['Fare'].mean())"
      ],
      "metadata": {
        "colab": {
          "base_uri": "https://localhost:8080/"
        },
        "id": "IsbGPNwBzuzC",
        "outputId": "ca8a2761-49ad-490b-fde9-754ed8ac5f4a"
      },
      "execution_count": 26,
      "outputs": [
        {
          "output_type": "stream",
          "name": "stdout",
          "text": [
            "Survived\n",
            "0    30.824001\n",
            "1    28.176379\n",
            "Name: Age, dtype: float64\n",
            "Survived\n",
            "0    22.117887\n",
            "1    48.395408\n",
            "Name: Fare, dtype: float64\n"
          ]
        }
      ]
    },
    {
      "cell_type": "markdown",
      "source": [
        "Quem pagou mais caro (primeira classe) foram os que mais sobreviveram."
      ],
      "metadata": {
        "id": "3si_x3aV-dEZ"
      }
    },
    {
      "cell_type": "code",
      "source": [
        "#Taxa de sobrevivência por título (Sr., Sra., etc)\n",
        "\n",
        "print(df.groupby('Title')['Survived'].mean().map(\"{:.1%}\".format))\n",
        "\n",
        "#Taxa de obrevivência por tamanho da família\n",
        "\n",
        "print(df.groupby('FamilySize')['Survived'].mean().map(\"{:.1%}\".format))\n",
        "\n",
        "#Taxa de sobrevivência por estar sozinho\n",
        "\n",
        "print(df.groupby('IsAlone')['Survived'].mean().map(\"{:.1%}\".format))"
      ],
      "metadata": {
        "colab": {
          "base_uri": "https://localhost:8080/"
        },
        "id": "9dsD6jor0iMr",
        "outputId": "0360fcb1-9ae9-4e06-c3b7-50a936516f99"
      },
      "execution_count": 27,
      "outputs": [
        {
          "output_type": "stream",
          "name": "stdout",
          "text": [
            "Title\n",
            "Master     57.5%\n",
            "Miss       70.3%\n",
            "Mrs        28.1%\n",
            "Officer    27.8%\n",
            "Royalty    60.0%\n",
            "Name: Survived, dtype: object\n",
            "FamilySize\n",
            "1     30.4%\n",
            "2     55.3%\n",
            "3     57.8%\n",
            "4     72.4%\n",
            "5     20.0%\n",
            "6     13.6%\n",
            "7     33.3%\n",
            "8      0.0%\n",
            "11     0.0%\n",
            "Name: Survived, dtype: object\n",
            "IsAlone\n",
            "0    50.6%\n",
            "1    30.4%\n",
            "Name: Survived, dtype: object\n"
          ]
        }
      ]
    },
    {
      "cell_type": "code",
      "source": [
        "import seaborn as sns\n",
        "import matplotlib.pyplot as plt\n",
        "\n",
        "#Gráfico sobrevivencia por sexo\n",
        "\n",
        "sns.countplot(x='Sex',hue='Survived',data=df)\n",
        "plt.title('Sobrevivência por Sexo')\n",
        "plt.xlabel('Sexo')\n",
        "plt.ylabel('Número de Passageiros')\n",
        "plt.legend(title='Sobreviveu',labels=['Não','Sim'])\n",
        "plt.show()"
      ],
      "metadata": {
        "colab": {
          "base_uri": "https://localhost:8080/",
          "height": 472
        },
        "id": "JItwXx3109NV",
        "outputId": "9050bb96-3550-4600-c75d-52d9a2efa039"
      },
      "execution_count": 35,
      "outputs": [
        {
          "output_type": "display_data",
          "data": {
            "text/plain": [
              "<Figure size 640x480 with 1 Axes>"
            ],
            "image/png": "[encoded data removed]"
          },
          "metadata": {}
        }
      ]
    },
    {
      "cell_type": "code",
      "source": [
        "#Gráfico sobrevivencia por classe\n",
        "\n",
        "sns.countplot(x='Pclass',hue='Survived',data=df)\n",
        "plt.title('Sobrevivência por Classe')\n",
        "plt.xlabel('Classe do Bilhete')\n",
        "plt.ylabel('Número de Passageiros')\n",
        "plt.legend(title='Sobreviveu',labels=['Não','Sim'])\n",
        "plt.show()"
      ],
      "metadata": {
        "colab": {
          "base_uri": "https://localhost:8080/",
          "height": 472
        },
        "id": "LZr3lT4H1Uv5",
        "outputId": "13d12807-46e9-4712-d8dd-d94a6d5d429f"
      },
      "execution_count": 29,
      "outputs": [
        {
          "output_type": "display_data",
          "data": {
            "text/plain": [
              "<Figure size 640x480 with 1 Axes>"
            ],
            "image/png": "[encoded data removed]"
          },
          "metadata": {}
        }
      ]
    },
    {
      "cell_type": "code",
      "source": [
        "#Gráfico sobrevivencia por porta de embarque\n",
        "\n",
        "sns.countplot(x='Embarked',hue='Survived',data=df)\n",
        "plt.title('Sobrevivência por Porta de Embarque')\n",
        "plt.xlabel('Porto (C=Cherbourg, Q=Queenstown, S=Southampton)')\n",
        "plt.ylabel('Número de Passageiros')\n",
        "plt.legend(title='Sobreviveu',labels=['Não','Sim'])\n",
        "plt.show()"
      ],
      "metadata": {
        "colab": {
          "base_uri": "https://localhost:8080/",
          "height": 472
        },
        "id": "7IvinwAw22h_",
        "outputId": "aca05d84-61dc-4c85-ca5d-b87040d4209d"
      },
      "execution_count": 37,
      "outputs": [
        {
          "output_type": "display_data",
          "data": {
            "text/plain": [
              "<Figure size 640x480 with 1 Axes>"
            ],
            "image/png": "[encoded data removed]"
          },
          "metadata": {}
        }
      ]
    },
    {
      "cell_type": "code",
      "source": [
        "#Gráfico sobrevivencia por companhia\n",
        "\n",
        "sns.countplot(x='IsAlone',hue='Survived',data=df)\n",
        "plt.title('Sobrevivência por Companhia')\n",
        "plt.xlabel('Estava Sozinho? (0=Não, 1=Sim)')\n",
        "plt.ylabel('Número de Passageiros')\n",
        "plt.legend(title='Sobreviveu',labels=['Não','Sim'])\n",
        "plt.show()"
      ],
      "metadata": {
        "colab": {
          "base_uri": "https://localhost:8080/",
          "height": 472
        },
        "id": "MrxZ909p22b8",
        "outputId": "7ee143fb-7f6b-4f8e-b062-ba583af6a474"
      },
      "execution_count": 38,
      "outputs": [
        {
          "output_type": "display_data",
          "data": {
            "text/plain": [
              "<Figure size 640x480 with 1 Axes>"
            ],
            "image/png": "[encoded data removed]"
          },
          "metadata": {}
        }
      ]
    },
    {
      "cell_type": "code",
      "source": [
        "import pandas as pd\n",
        "import seaborn as sns\n",
        "import matplotlib.pyplot as plt\n",
        "\n",
        "#Criar faixas etárias\n",
        "df['FaixaEtaria']=pd.cut(df['Age'],bins=[0,10,20,30,40,50,60,80],labels=[\n",
        "    '0-10','11-20','21-30','31-40','41-50','51-60','61+'])\n",
        "\n",
        "#Gráfico de barras lado a lado (countplot)\n",
        "sns.countplot(data=df,x='FaixaEtaria',hue='Survived')\n",
        "plt.title('Sobrevivência por Faixa Etária')\n",
        "plt.xlabel('Faixa Etária')\n",
        "plt.ylabel('Número de Passageiros')\n",
        "plt.legend(title='Sobreviveu',labels=['Não','Sim'])\n",
        "plt.show()"
      ],
      "metadata": {
        "colab": {
          "base_uri": "https://localhost:8080/",
          "height": 472
        },
        "id": "QZTpOWDp3map",
        "outputId": "7ceb6912-c3e5-46f9-de56-6ab25a70ec63"
      },
      "execution_count": 32,
      "outputs": [
        {
          "output_type": "display_data",
          "data": {
            "text/plain": [
              "<Figure size 640x480 with 1 Axes>"
            ],
            "image/png": "[encoded data removed]"
          },
          "metadata": {}
        }
      ]
    }
  ]
}